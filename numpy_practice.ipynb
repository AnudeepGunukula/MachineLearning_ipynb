{
 "cells": [
  {
   "cell_type": "code",
   "execution_count": null,
   "metadata": {
    "colab": {},
    "colab_type": "code",
    "id": "XJpuBA9CACh1"
   },
   "outputs": [],
   "source": [
    "book={}\n",
    "book['sunny']={\n",
    "    'name':'sunnyleone',\n",
    "    'age':'30',\n",
    "    'profession':'actress'\n",
    "}\n",
    "book['mia']={\n",
    "    'name':'miakhalifa',\n",
    "    'age':'28',\n",
    "    'profession':'social_worker'\n",
    "}\n",
    "import json\n",
    "a=json.dumps(book)\n",
    "with open('/content/drive/My Drive/jason.txt','w') as f:\n",
    "          f.write(a)\n",
    "f.close()"
   ]
  },
  {
   "cell_type": "code",
   "execution_count": null,
   "metadata": {
    "colab": {
     "base_uri": "https://localhost:8080/",
     "height": 118
    },
    "colab_type": "code",
    "executionInfo": {
     "elapsed": 871,
     "status": "ok",
     "timestamp": 1596186731824,
     "user": {
      "displayName": "john wickson",
      "photoUrl": "",
      "userId": "02886435677777830514"
     },
     "user_tz": -330
    },
    "id": "yfNXZLfRG3Nu",
    "outputId": "ba6316f1-6dea-402f-e7c4-4f5a9bd0a67c"
   },
   "outputs": [
    {
     "name": "stdout",
     "output_type": "stream",
     "text": [
      "sunnyleone\n",
      "30\n",
      "actress\n",
      "miakhalifa\n",
      "28\n",
      "social_worker\n"
     ]
    }
   ],
   "source": [
    "import json\n",
    "with open('/content/drive/My Drive/jason.txt','r') as f:\n",
    "               s=f.read()\n",
    "final=json.loads(s)\n",
    "for i in final:\n",
    "     for j in final[i]:\n",
    "          print(final[i][j])"
   ]
  },
  {
   "cell_type": "code",
   "execution_count": null,
   "metadata": {
    "colab": {
     "base_uri": "https://localhost:8080/",
     "height": 282
    },
    "colab_type": "code",
    "executionInfo": {
     "elapsed": 1656,
     "status": "ok",
     "timestamp": 1596193452513,
     "user": {
      "displayName": "john wickson",
      "photoUrl": "",
      "userId": "02886435677777830514"
     },
     "user_tz": -330
    },
    "id": "mRABDs1GJiwr",
    "outputId": "2c273db7-2c9a-46f1-b17b-0e142a8f699e"
   },
   "outputs": [
    {
     "data": {
      "text/plain": [
       "<matplotlib.axes._subplots.AxesSubplot at 0x7fd9cad1bcc0>"
      ]
     },
     "execution_count": 51,
     "metadata": {
      "tags": []
     },
     "output_type": "execute_result"
    },
    {
     "data": {
      "image/png": "[encoded data removed]",
      "text/plain": [
       "<Figure size 432x288 with 1 Axes>"
      ]
     },
     "metadata": {
      "needs_background": "light",
      "tags": []
     },
     "output_type": "display_data"
    }
   ],
   "source": [
    "import pandas as pd\n",
    "import matplotlib.pyplot as plt\n",
    "a=pd.read_csv('/content/sample_data/california_housing_test.csv')\n",
    "df=pd.DataFrame(a[['population','households']])\n",
    "df.plot(y='population',color='green')"
   ]
  },
  {
   "cell_type": "code",
   "execution_count": null,
   "metadata": {
    "colab": {
     "base_uri": "https://localhost:8080/",
     "height": 298
    },
    "colab_type": "code",
    "executionInfo": {
     "elapsed": 41508,
     "status": "ok",
     "timestamp": 1596193700867,
     "user": {
      "displayName": "john wickson",
      "photoUrl": "",
      "userId": "02886435677777830514"
     },
     "user_tz": -330
    },
    "id": "OAyXpt0gi6hU",
    "outputId": "37acb1c8-841e-49f9-ae47-528069384f98"
   },
   "outputs": [
    {
     "data": {
      "text/plain": [
       "<matplotlib.axes._subplots.AxesSubplot at 0x7fd9c32e0e80>"
      ]
     },
     "execution_count": 55,
     "metadata": {
      "tags": []
     },
     "output_type": "execute_result"
    },
    {
     "data": {
      "image/png": "[encoded data removed]",
      "text/plain": [
       "<Figure size 432x288 with 1 Axes>"
      ]
     },
     "metadata": {
      "needs_background": "light",
      "tags": []
     },
     "output_type": "display_data"
    }
   ],
   "source": [
    "df.plot.bar(y='households')"
   ]
  },
  {
   "cell_type": "code",
   "execution_count": null,
   "metadata": {
    "colab": {
     "base_uri": "https://localhost:8080/",
     "height": 50
    },
    "colab_type": "code",
    "executionInfo": {
     "elapsed": 12578,
     "status": "ok",
     "timestamp": 1596193320429,
     "user": {
      "displayName": "john wickson",
      "photoUrl": "",
      "userId": "02886435677777830514"
     },
     "user_tz": -330
    },
    "id": "k7JwExPMh1Yh",
    "outputId": "4e1288f6-be75-40d6-90ce-6c98e250cab4"
   },
   "outputs": [
    {
     "name": "stdout",
     "output_type": "stream",
     "text": [
      "CPU times: user 11.3 s, sys: 2.37 ms, total: 11.3 s\n",
      "Wall time: 11.3 s\n"
     ]
    }
   ],
   "source": [
    "%time for i in range(99999999):a=i*i"
   ]
  },
  {
   "cell_type": "code",
   "execution_count": null,
   "metadata": {
    "colab": {
     "base_uri": "https://localhost:8080/",
     "height": 67
    },
    "colab_type": "code",
    "executionInfo": {
     "elapsed": 1744,
     "status": "ok",
     "timestamp": 1596196642394,
     "user": {
      "displayName": "john wickson",
      "photoUrl": "",
      "userId": "02886435677777830514"
     },
     "user_tz": -330
    },
    "id": "PBydha1fljzF",
    "outputId": "02d3925a-61d8-4b85-aa6e-d8f6887fe33e"
   },
   "outputs": [
    {
     "data": {
      "text/plain": [
       "array([[1.+0.j, 2.+0.j, 3.+0.j],\n",
       "       [4.+0.j, 5.+0.j, 6.+0.j],\n",
       "       [7.+0.j, 8.+0.j, 9.+0.j]])"
      ]
     },
     "execution_count": 107,
     "metadata": {
      "tags": []
     },
     "output_type": "execute_result"
    }
   ],
   "source": [
    "import numpy as np\n",
    "a=np.array([(1.,2.,3.),(4.,5.,6.),(7.,8.,9.)],dtype='complex')\n",
    "a"
   ]
  },
  {
   "cell_type": "code",
   "execution_count": null,
   "metadata": {
    "colab": {
     "base_uri": "https://localhost:8080/",
     "height": 50
    },
    "colab_type": "code",
    "executionInfo": {
     "elapsed": 1483,
     "status": "ok",
     "timestamp": 1596194796754,
     "user": {
      "displayName": "john wickson",
      "photoUrl": "",
      "userId": "02886435677777830514"
     },
     "user_tz": -330
    },
    "id": "RNeicQ30nvos",
    "outputId": "ea6e63ba-62dd-4324-d352-d0c742b125e8"
   },
   "outputs": [
    {
     "data": {
      "text/plain": [
       "array([[1, 1],\n",
       "       [1, 1]])"
      ]
     },
     "execution_count": 81,
     "metadata": {
      "tags": []
     },
     "output_type": "execute_result"
    }
   ],
   "source": [
    "np.zeros((3,4))\n",
    "np.ones((2,2),dtype='int')                      \n"
   ]
  },
  {
   "cell_type": "code",
   "execution_count": null,
   "metadata": {
    "colab": {
     "base_uri": "https://localhost:8080/",
     "height": 84
    },
    "colab_type": "code",
    "executionInfo": {
     "elapsed": 1658,
     "status": "ok",
     "timestamp": 1596195020391,
     "user": {
      "displayName": "john wickson",
      "photoUrl": "",
      "userId": "02886435677777830514"
     },
     "user_tz": -330
    },
    "id": "NXemPaktoogS",
    "outputId": "b19e4ff4-b7b3-4eaa-ea9a-c1a61f764312"
   },
   "outputs": [
    {
     "data": {
      "text/plain": [
       "array([ 1.   ,  1.375,  1.75 ,  2.125,  2.5  ,  2.875,  3.25 ,  3.625,\n",
       "        4.   ,  4.375,  4.75 ,  5.125,  5.5  ,  5.875,  6.25 ,  6.625,\n",
       "        7.   ,  7.375,  7.75 ,  8.125,  8.5  ,  8.875,  9.25 ,  9.625,\n",
       "       10.   ])"
      ]
     },
     "execution_count": 85,
     "metadata": {
      "tags": []
     },
     "output_type": "execute_result"
    }
   ],
   "source": [
    "np.linspace(1,10,25)            #makes 25 slices bw 1 and 10"
   ]
  },
  {
   "cell_type": "code",
   "execution_count": null,
   "metadata": {
    "colab": {
     "base_uri": "https://localhost:8080/",
     "height": 84
    },
    "colab_type": "code",
    "executionInfo": {
     "elapsed": 1586,
     "status": "ok",
     "timestamp": 1596195213925,
     "user": {
      "displayName": "john wickson",
      "photoUrl": "",
      "userId": "02886435677777830514"
     },
     "user_tz": -330
    },
    "id": "N0NE0xTipIMa",
    "outputId": "b817cae1-caf9-4699-cb25-85fc213fdcac"
   },
   "outputs": [
    {
     "data": {
      "text/plain": [
       "array([[1],\n",
       "       [2],\n",
       "       [3],\n",
       "       [4]])"
      ]
     },
     "execution_count": 89,
     "metadata": {
      "tags": []
     },
     "output_type": "execute_result"
    }
   ],
   "source": [
    "a=np.array([[1,2],[3,4]])\n",
    "a.reshape(4,1)                    #reshapes the matrix"
   ]
  },
  {
   "cell_type": "code",
   "execution_count": null,
   "metadata": {
    "colab": {
     "base_uri": "https://localhost:8080/",
     "height": 34
    },
    "colab_type": "code",
    "executionInfo": {
     "elapsed": 1287,
     "status": "ok",
     "timestamp": 1596195231303,
     "user": {
      "displayName": "john wickson",
      "photoUrl": "",
      "userId": "02886435677777830514"
     },
     "user_tz": -330
    },
    "id": "TcW0NoFxpkA5",
    "outputId": "548152ad-1d42-4d93-88c1-99928c39c12e"
   },
   "outputs": [
    {
     "data": {
      "text/plain": [
       "array([1, 2, 3, 4])"
      ]
     },
     "execution_count": 90,
     "metadata": {
      "tags": []
     },
     "output_type": "execute_result"
    }
   ],
   "source": [
    "a.ravel()          #makes to one dimension"
   ]
  },
  {
   "cell_type": "code",
   "execution_count": null,
   "metadata": {
    "colab": {
     "base_uri": "https://localhost:8080/",
     "height": 34
    },
    "colab_type": "code",
    "executionInfo": {
     "elapsed": 2185,
     "status": "ok",
     "timestamp": 1596195581747,
     "user": {
      "displayName": "john wickson",
      "photoUrl": "",
      "userId": "02886435677777830514"
     },
     "user_tz": -330
    },
    "id": "CoAUtIinqOYU",
    "outputId": "093e3bde-d997-400f-dcc8-cf3c5446205c"
   },
   "outputs": [
    {
     "data": {
      "text/plain": [
       "array([ 6, 15])"
      ]
     },
     "execution_count": 93,
     "metadata": {
      "tags": []
     },
     "output_type": "execute_result"
    }
   ],
   "source": [
    "a=np.array([[1,2,3],[4,5,6]])\n",
    "a.sum(axis=1)                        #adds on xaxis where axis=0 adds on yaxis    "
   ]
  },
  {
   "cell_type": "code",
   "execution_count": null,
   "metadata": {
    "colab": {
     "base_uri": "https://localhost:8080/",
     "height": 34
    },
    "colab_type": "code",
    "executionInfo": {
     "elapsed": 966,
     "status": "ok",
     "timestamp": 1596195791888,
     "user": {
      "displayName": "john wickson",
      "photoUrl": "",
      "userId": "02886435677777830514"
     },
     "user_tz": -330
    },
    "id": "vDWrjvJgrou_",
    "outputId": "8f7c9a65-e927-41c6-e83c-8298be6502bf"
   },
   "outputs": [
    {
     "data": {
      "text/plain": [
       "1.707825127659933"
      ]
     },
     "execution_count": 95,
     "metadata": {
      "tags": []
     },
     "output_type": "execute_result"
    }
   ],
   "source": [
    "a=np.array([[1,2,3],[4,5,6]])\n",
    "np.std(a)"
   ]
  },
  {
   "cell_type": "code",
   "execution_count": null,
   "metadata": {
    "colab": {
     "base_uri": "https://localhost:8080/",
     "height": 50
    },
    "colab_type": "code",
    "executionInfo": {
     "elapsed": 1414,
     "status": "ok",
     "timestamp": 1596196264132,
     "user": {
      "displayName": "john wickson",
      "photoUrl": "",
      "userId": "02886435677777830514"
     },
     "user_tz": -330
    },
    "id": "fOveGLKwsJKz",
    "outputId": "1a43e70b-e792-44a8-e810-fe1398bbcd0a"
   },
   "outputs": [
    {
     "data": {
      "text/plain": [
       "array([[ 8, 10, 12],\n",
       "       [ 8, 10, 12]])"
      ]
     },
     "execution_count": 105,
     "metadata": {
      "tags": []
     },
     "output_type": "execute_result"
    }
   ],
   "source": [
    "a=np.array([[1,2,3],[4,5,6]])\n",
    "b=np.array([[7,8,9],[4,5,6]])\n",
    "a+b"
   ]
  },
  {
   "cell_type": "code",
   "execution_count": null,
   "metadata": {
    "colab": {
     "base_uri": "https://localhost:8080/",
     "height": 50
    },
    "colab_type": "code",
    "executionInfo": {
     "elapsed": 1500,
     "status": "ok",
     "timestamp": 1596196061381,
     "user": {
      "displayName": "john wickson",
      "photoUrl": "",
      "userId": "02886435677777830514"
     },
     "user_tz": -330
    },
    "id": "yMlVzbvIst56",
    "outputId": "a6360625-22ff-49c8-feae-058c73ccca37"
   },
   "outputs": [
    {
     "data": {
      "text/plain": [
       "array([[ 7, 16, 27],\n",
       "       [16, 25, 36]])"
      ]
     },
     "execution_count": 99,
     "metadata": {
      "tags": []
     },
     "output_type": "execute_result"
    }
   ],
   "source": [
    "a*b"
   ]
  },
  {
   "cell_type": "code",
   "execution_count": null,
   "metadata": {
    "colab": {
     "base_uri": "https://localhost:8080/",
     "height": 50
    },
    "colab_type": "code",
    "executionInfo": {
     "elapsed": 1665,
     "status": "ok",
     "timestamp": 1596196242970,
     "user": {
      "displayName": "john wickson",
      "photoUrl": "",
      "userId": "02886435677777830514"
     },
     "user_tz": -330
    },
    "id": "zrnYBO1VtLsC",
    "outputId": "d34e3213-ac2e-4de0-9fa9-023c762ab7c4"
   },
   "outputs": [
    {
     "data": {
      "text/plain": [
       "array([[33, 39],\n",
       "       [84, 99]])"
      ]
     },
     "execution_count": 103,
     "metadata": {
      "tags": []
     },
     "output_type": "execute_result"
    }
   ],
   "source": [
    "a=np.array([[1,2,3],[4,5,6]])\n",
    "b=np.array([[7,8],[4,5],[6,7]])\n",
    "a.dot(b)"
   ]
  },
  {
   "cell_type": "code",
   "execution_count": null,
   "metadata": {
    "colab": {
     "base_uri": "https://localhost:8080/",
     "height": 50
    },
    "colab_type": "code",
    "executionInfo": {
     "elapsed": 1504,
     "status": "ok",
     "timestamp": 1596197575256,
     "user": {
      "displayName": "john wickson",
      "photoUrl": "",
      "userId": "02886435677777830514"
     },
     "user_tz": -330
    },
    "id": "DuriArlox8o4",
    "outputId": "444d67f3-fc38-4c4b-9f1a-4626a0918e35"
   },
   "outputs": [
    {
     "data": {
      "text/plain": [
       "array([[2, 3],\n",
       "       [5, 6]])"
      ]
     },
     "execution_count": 115,
     "metadata": {
      "tags": []
     },
     "output_type": "execute_result"
    }
   ],
   "source": [
    "a=np.array([[1,2,3],[4,5,6]])\n",
    "a=a[0:,1:]\n",
    "a"
   ]
  }
 ],
 "metadata": {
  "accelerator": "GPU",
  "colab": {
   "authorship_tag": "ABX9TyOUpyS6EGyvjSgFOcE+wyBj",
   "collapsed_sections": [],
   "mount_file_id": "1Myp120LT9SLolqj1rB6zNua7VQY2oThB",
   "name": "boom.ipynb",
   "provenance": []
  },
  "kernelspec": {
   "display_name": "Python 3",
   "language": "python",
   "name": "python3"
  },
  "language_info": {
   "codemirror_mode": {
    "name": "ipython",
    "version": 3
   },
   "file_extension": ".py",
   "mimetype": "text/x-python",
   "name": "python",
   "nbconvert_exporter": "python",
   "pygments_lexer": "ipython3",
   "version": "3.7.6"
  }
 },
 "nbformat": 4,
 "nbformat_minor": 1
}
